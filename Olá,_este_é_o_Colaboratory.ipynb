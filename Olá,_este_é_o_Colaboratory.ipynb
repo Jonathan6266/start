{
  "cells": [
    {
      "cell_type": "markdown",
      "metadata": {
        "id": "view-in-github",
        "colab_type": "text"
      },
      "source": [
        "<a href=\"https://colab.research.google.com/github/Jonathan6266/start/blob/main/Ol%C3%A1%2C_este_%C3%A9_o_Colaboratory.ipynb\" target=\"_parent\"><img src=\"https://colab.research.google.com/assets/colab-badge.svg\" alt=\"Open In Colab\"/></a>"
      ]
    },
    {
      "cell_type": "code",
      "source": [
        "print(\"hello world\")\n",
        "\n",
        "x = 10\n",
        "\n",
        "nome = 'aluno'\n",
        "\n",
        "nota = 8.75\n",
        "\n",
        "fez_inscricao = True\n",
        "\n",
        "nome = input(\"Jonathan\")\n"
      ],
      "metadata": {
        "id": "aHERDOBoJZbz",
        "outputId": "7d5f61d2-71db-4dd1-e098-e72703fe7b54",
        "colab": {
          "base_uri": "https://localhost:8080/"
        }
      },
      "execution_count": 13,
      "outputs": [
        {
          "name": "stdout",
          "output_type": "stream",
          "text": [
            "hello world\n",
            "JonathanJonathan\n"
          ]
        }
      ]
    },
    {
      "cell_type": "code",
      "source": [
        "Nota_1 = int(input(\"Digite a primira nota:\"))\n",
        "\n",
        "Nota_2 = int(input(\"Digite a segunda nota:\"))\n",
        "\n",
        "Nota_3 = int(input(\"Digite a terceira nota:\"))\n",
        "\n",
        "Nota_4 = int(input(\"Digite a quarta nota:\"))\n",
        "\n"
      ],
      "metadata": {
        "id": "idv5iofLNiOW",
        "outputId": "2e2d6e28-4034-41d0-b795-2067ceaf70fd",
        "colab": {
          "base_uri": "https://localhost:8080/"
        }
      },
      "execution_count": 21,
      "outputs": [
        {
          "name": "stdout",
          "output_type": "stream",
          "text": [
            "Digite a primira nota:5\n",
            "Digite a segunda nota:6\n",
            "Digite a terceira nota:7\n",
            "Digite a quarta nota:9\n"
          ]
        }
      ]
    },
    {
      "cell_type": "code",
      "source": [
        "media = (Nota_1+Nota_2+Nota_3+Nota_4) /4\n",
        "\n",
        "if media >= 6:\n",
        "\n",
        "    situacao = \"Aprovado\"\n",
        "\n",
        "else:\n",
        "\n",
        "    situacao = \"Reprovado\""
      ],
      "metadata": {
        "id": "9t7Jq7FZPBUg"
      },
      "execution_count": 24,
      "outputs": []
    },
    {
      "cell_type": "code",
      "source": [
        "#dadas as notas, mostramos a média final e a situação do aluno.\n",
        "\n",
        "print(f\"A media das notas é: {media}\")\n",
        "\n",
        "print(f\"Situação do aluno: {situacao}\")"
      ],
      "metadata": {
        "id": "PTZm11GQPmm-",
        "outputId": "4e562cae-43a8-449d-b907-a144788c5ea4",
        "colab": {
          "base_uri": "https://localhost:8080/"
        }
      },
      "execution_count": 26,
      "outputs": [
        {
          "output_type": "stream",
          "name": "stdout",
          "text": [
            "A media das notas é: 6.75\n",
            "Situação do aluno: Aprovado\n"
          ]
        }
      ]
    }
  ],
  "metadata": {
    "colab": {
      "name": "Olá, este é o Colaboratory",
      "provenance": [],
      "include_colab_link": true
    },
    "kernelspec": {
      "display_name": "Python 3",
      "name": "python3"
    }
  },
  "nbformat": 4,
  "nbformat_minor": 0
}